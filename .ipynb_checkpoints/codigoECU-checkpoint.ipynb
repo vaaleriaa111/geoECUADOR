{
 "cells": [
  {
   "cell_type": "code",
   "execution_count": 1,
   "id": "021e659a",
   "metadata": {},
   "outputs": [],
   "source": [
    "import os, geopandas as gpd"
   ]
  },
  {
   "cell_type": "code",
   "execution_count": 2,
   "id": "36b60fdc",
   "metadata": {},
   "outputs": [],
   "source": [
    "edificada=gpd.read_file(os.path.join(\"maps\",\"zona_edificada\",\"zona_edificada.shp\"))"
   ]
  },
  {
   "cell_type": "code",
   "execution_count": 3,
   "id": "43ee55e6",
   "metadata": {},
   "outputs": [
    {
     "data": {
      "text/plain": [
       "geopandas.geodataframe.GeoDataFrame"
      ]
     },
     "execution_count": 3,
     "metadata": {},
     "output_type": "execute_result"
    }
   ],
   "source": [
    "# que tipo es?\n",
    "type(edificada)"
   ]
  },
  {
   "cell_type": "code",
   "execution_count": 5,
   "id": "31e77a11",
   "metadata": {},
   "outputs": [
    {
     "data": {
      "text/plain": [
       "(3, 11)"
      ]
     },
     "execution_count": 5,
     "metadata": {},
     "output_type": "execute_result"
    }
   ],
   "source": [
    "# dimensiones\n",
    "edificada.shape"
   ]
  },
  {
   "cell_type": "code",
   "execution_count": 6,
   "id": "173e9d79",
   "metadata": {},
   "outputs": [
    {
     "data": {
      "text/plain": [
       "Index(['fcode', 'descripcio', 'nam', 'na2', 'acc', 'acc_desc', 'nute', 'txt',\n",
       "       'shape_leng', 'shape_area', 'geometry'],\n",
       "      dtype='object')"
      ]
     },
     "execution_count": 6,
     "metadata": {},
     "output_type": "execute_result"
    }
   ],
   "source": [
    "# nombres de las columnas \n",
    "edificada.columns"
   ]
  },
  {
   "cell_type": "code",
   "execution_count": 7,
   "id": "d8c3478b",
   "metadata": {},
   "outputs": [
    {
     "data": {
      "text/html": [
       "<div>\n",
       "<style scoped>\n",
       "    .dataframe tbody tr th:only-of-type {\n",
       "        vertical-align: middle;\n",
       "    }\n",
       "\n",
       "    .dataframe tbody tr th {\n",
       "        vertical-align: top;\n",
       "    }\n",
       "\n",
       "    .dataframe thead th {\n",
       "        text-align: right;\n",
       "    }\n",
       "</style>\n",
       "<table border=\"1\" class=\"dataframe\">\n",
       "  <thead>\n",
       "    <tr style=\"text-align: right;\">\n",
       "      <th></th>\n",
       "      <th>fcode</th>\n",
       "      <th>descripcio</th>\n",
       "      <th>nam</th>\n",
       "      <th>na2</th>\n",
       "      <th>acc</th>\n",
       "      <th>acc_desc</th>\n",
       "      <th>nute</th>\n",
       "      <th>txt</th>\n",
       "      <th>shape_leng</th>\n",
       "      <th>shape_area</th>\n",
       "      <th>geometry</th>\n",
       "    </tr>\n",
       "  </thead>\n",
       "  <tbody>\n",
       "    <tr>\n",
       "      <th>0</th>\n",
       "      <td>AL020</td>\n",
       "      <td>Concentración continua ocupada de tiendas  o l...</td>\n",
       "      <td>QUITO DISTRITO METROPOLITANO</td>\n",
       "      <td>None</td>\n",
       "      <td>2</td>\n",
       "      <td>Aproximada</td>\n",
       "      <td>30117001050</td>\n",
       "      <td>Capital de la República del Ecuador</td>\n",
       "      <td>151269.947237</td>\n",
       "      <td>1.956673e+08</td>\n",
       "      <td>POLYGON ((-78.45850 -0.07339, -78.45849 -0.073...</td>\n",
       "    </tr>\n",
       "    <tr>\n",
       "      <th>1</th>\n",
       "      <td>AL020</td>\n",
       "      <td>Concentración continua ocupada de tiendas  o l...</td>\n",
       "      <td>CUENCA</td>\n",
       "      <td>None</td>\n",
       "      <td>2</td>\n",
       "      <td>Aproximada</td>\n",
       "      <td>30101001050</td>\n",
       "      <td>Capital Provincial</td>\n",
       "      <td>38325.855028</td>\n",
       "      <td>2.688447e+07</td>\n",
       "      <td>POLYGON ((-78.97261 -2.87888, -78.97261 -2.878...</td>\n",
       "    </tr>\n",
       "    <tr>\n",
       "      <th>2</th>\n",
       "      <td>AL020</td>\n",
       "      <td>Concentración continua ocupada de tiendas  o l...</td>\n",
       "      <td>GUAYAQUIL</td>\n",
       "      <td>None</td>\n",
       "      <td>2</td>\n",
       "      <td>Aproximada</td>\n",
       "      <td>30209001050</td>\n",
       "      <td>Capital Provincial</td>\n",
       "      <td>220367.495137</td>\n",
       "      <td>3.009167e+08</td>\n",
       "      <td>POLYGON ((-79.98384 -1.98361, -79.98306 -1.983...</td>\n",
       "    </tr>\n",
       "  </tbody>\n",
       "</table>\n",
       "</div>"
      ],
      "text/plain": [
       "   fcode                                         descripcio  \\\n",
       "0  AL020  Concentración continua ocupada de tiendas  o l...   \n",
       "1  AL020  Concentración continua ocupada de tiendas  o l...   \n",
       "2  AL020  Concentración continua ocupada de tiendas  o l...   \n",
       "\n",
       "                            nam   na2  acc    acc_desc         nute  \\\n",
       "0  QUITO DISTRITO METROPOLITANO  None    2  Aproximada  30117001050   \n",
       "1                        CUENCA  None    2  Aproximada  30101001050   \n",
       "2                     GUAYAQUIL  None    2  Aproximada  30209001050   \n",
       "\n",
       "                                   txt     shape_leng    shape_area  \\\n",
       "0  Capital de la República del Ecuador  151269.947237  1.956673e+08   \n",
       "1                   Capital Provincial   38325.855028  2.688447e+07   \n",
       "2                   Capital Provincial  220367.495137  3.009167e+08   \n",
       "\n",
       "                                            geometry  \n",
       "0  POLYGON ((-78.45850 -0.07339, -78.45849 -0.073...  \n",
       "1  POLYGON ((-78.97261 -2.87888, -78.97261 -2.878...  \n",
       "2  POLYGON ((-79.98384 -1.98361, -79.98306 -1.983...  "
      ]
     },
     "execution_count": 7,
     "metadata": {},
     "output_type": "execute_result"
    }
   ],
   "source": [
    "# contenido\n",
    "edificada.head()"
   ]
  },
  {
   "cell_type": "code",
   "execution_count": 11,
   "id": "4f186129",
   "metadata": {},
   "outputs": [
    {
     "data": {
      "text/html": [
       "<div>\n",
       "<style scoped>\n",
       "    .dataframe tbody tr th:only-of-type {\n",
       "        vertical-align: middle;\n",
       "    }\n",
       "\n",
       "    .dataframe tbody tr th {\n",
       "        vertical-align: top;\n",
       "    }\n",
       "\n",
       "    .dataframe thead th {\n",
       "        text-align: right;\n",
       "    }\n",
       "</style>\n",
       "<table border=\"1\" class=\"dataframe\">\n",
       "  <thead>\n",
       "    <tr style=\"text-align: right;\">\n",
       "      <th></th>\n",
       "      <th>fcode</th>\n",
       "      <th>descripcio</th>\n",
       "      <th>nam</th>\n",
       "      <th>na2</th>\n",
       "      <th>acc</th>\n",
       "      <th>acc_desc</th>\n",
       "      <th>nute</th>\n",
       "      <th>txt</th>\n",
       "      <th>shape_leng</th>\n",
       "      <th>shape_area</th>\n",
       "      <th>geometry</th>\n",
       "    </tr>\n",
       "  </thead>\n",
       "  <tbody>\n",
       "    <tr>\n",
       "      <th>0</th>\n",
       "      <td>AL020</td>\n",
       "      <td>Concentración continua ocupada de tiendas  o l...</td>\n",
       "      <td>QUITO DISTRITO METROPOLITANO</td>\n",
       "      <td>None</td>\n",
       "      <td>2</td>\n",
       "      <td>Aproximada</td>\n",
       "      <td>30117001050</td>\n",
       "      <td>Capital de la República del Ecuador</td>\n",
       "      <td>151269.947237</td>\n",
       "      <td>1.956673e+08</td>\n",
       "      <td>POLYGON ((-78.45850 -0.07339, -78.45849 -0.073...</td>\n",
       "    </tr>\n",
       "    <tr>\n",
       "      <th>1</th>\n",
       "      <td>AL020</td>\n",
       "      <td>Concentración continua ocupada de tiendas  o l...</td>\n",
       "      <td>CUENCA</td>\n",
       "      <td>None</td>\n",
       "      <td>2</td>\n",
       "      <td>Aproximada</td>\n",
       "      <td>30101001050</td>\n",
       "      <td>Capital Provincial</td>\n",
       "      <td>38325.855028</td>\n",
       "      <td>2.688447e+07</td>\n",
       "      <td>POLYGON ((-78.97261 -2.87888, -78.97261 -2.878...</td>\n",
       "    </tr>\n",
       "    <tr>\n",
       "      <th>2</th>\n",
       "      <td>AL020</td>\n",
       "      <td>Concentración continua ocupada de tiendas  o l...</td>\n",
       "      <td>GUAYAQUIL</td>\n",
       "      <td>None</td>\n",
       "      <td>2</td>\n",
       "      <td>Aproximada</td>\n",
       "      <td>30209001050</td>\n",
       "      <td>Capital Provincial</td>\n",
       "      <td>220367.495137</td>\n",
       "      <td>3.009167e+08</td>\n",
       "      <td>POLYGON ((-79.98384 -1.98361, -79.98306 -1.983...</td>\n",
       "    </tr>\n",
       "  </tbody>\n",
       "</table>\n",
       "</div>"
      ],
      "text/plain": [
       "   fcode                                         descripcio  \\\n",
       "0  AL020  Concentración continua ocupada de tiendas  o l...   \n",
       "1  AL020  Concentración continua ocupada de tiendas  o l...   \n",
       "2  AL020  Concentración continua ocupada de tiendas  o l...   \n",
       "\n",
       "                            nam   na2  acc    acc_desc         nute  \\\n",
       "0  QUITO DISTRITO METROPOLITANO  None    2  Aproximada  30117001050   \n",
       "1                        CUENCA  None    2  Aproximada  30101001050   \n",
       "2                     GUAYAQUIL  None    2  Aproximada  30209001050   \n",
       "\n",
       "                                   txt     shape_leng    shape_area  \\\n",
       "0  Capital de la República del Ecuador  151269.947237  1.956673e+08   \n",
       "1                   Capital Provincial   38325.855028  2.688447e+07   \n",
       "2                   Capital Provincial  220367.495137  3.009167e+08   \n",
       "\n",
       "                                            geometry  \n",
       "0  POLYGON ((-78.45850 -0.07339, -78.45849 -0.073...  \n",
       "1  POLYGON ((-78.97261 -2.87888, -78.97261 -2.878...  \n",
       "2  POLYGON ((-79.98384 -1.98361, -79.98306 -1.983...  "
      ]
     },
     "execution_count": 11,
     "metadata": {},
     "output_type": "execute_result"
    }
   ],
   "source": [
    "edificada[edificada.isna().any(axis=1)]"
   ]
  },
  {
   "cell_type": "code",
   "execution_count": 12,
   "id": "a791fc7c",
   "metadata": {},
   "outputs": [
    {
     "name": "stdout",
     "output_type": "stream",
     "text": [
      "<class 'geopandas.geodataframe.GeoDataFrame'>\n",
      "RangeIndex: 3 entries, 0 to 2\n",
      "Data columns (total 11 columns):\n",
      " #   Column      Non-Null Count  Dtype   \n",
      "---  ------      --------------  -----   \n",
      " 0   fcode       3 non-null      object  \n",
      " 1   descripcio  3 non-null      object  \n",
      " 2   nam         3 non-null      object  \n",
      " 3   na2         0 non-null      object  \n",
      " 4   acc         3 non-null      int64   \n",
      " 5   acc_desc    3 non-null      object  \n",
      " 6   nute        3 non-null      object  \n",
      " 7   txt         3 non-null      object  \n",
      " 8   shape_leng  3 non-null      float64 \n",
      " 9   shape_area  3 non-null      float64 \n",
      " 10  geometry    3 non-null      geometry\n",
      "dtypes: float64(2), geometry(1), int64(1), object(7)\n",
      "memory usage: 392.0+ bytes\n"
     ]
    }
   ],
   "source": [
    "# tipos\n",
    "edificada.info()"
   ]
  },
  {
   "cell_type": "code",
   "execution_count": null,
   "id": "104544c3",
   "metadata": {},
   "outputs": [],
   "source": []
  }
 ],
 "metadata": {
  "kernelspec": {
   "display_name": "Python 3 (ipykernel)",
   "language": "python",
   "name": "python3"
  },
  "language_info": {
   "codemirror_mode": {
    "name": "ipython",
    "version": 3
   },
   "file_extension": ".py",
   "mimetype": "text/x-python",
   "name": "python",
   "nbconvert_exporter": "python",
   "pygments_lexer": "ipython3",
   "version": "3.9.13"
  }
 },
 "nbformat": 4,
 "nbformat_minor": 5
}
