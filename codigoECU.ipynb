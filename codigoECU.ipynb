{
 "cells": [
  {
   "cell_type": "code",
   "execution_count": 1,
   "id": "727db258",
   "metadata": {},
   "outputs": [],
   "source": [
    "import os, geopandas as gpd"
   ]
  },
  {
   "cell_type": "code",
   "execution_count": 14,
   "id": "7c0d49cc",
   "metadata": {},
   "outputs": [],
   "source": [
    "poblados=gpd.read_file(os.path.join(\"maps\",\"poblados\",\"poblados.shp\"))"
   ]
  },
  {
   "cell_type": "code",
   "execution_count": 16,
   "id": "5ce08f7a",
   "metadata": {},
   "outputs": [
    {
     "data": {
      "text/plain": [
       "geopandas.geodataframe.GeoDataFrame"
      ]
     },
     "execution_count": 16,
     "metadata": {},
     "output_type": "execute_result"
    }
   ],
   "source": [
    "# que tipo es?\n",
    "type(poblados)"
   ]
  },
  {
   "cell_type": "code",
   "execution_count": 17,
   "id": "4a0e5348",
   "metadata": {},
   "outputs": [
    {
     "data": {
      "text/plain": [
       "(1411, 9)"
      ]
     },
     "execution_count": 17,
     "metadata": {},
     "output_type": "execute_result"
    }
   ],
   "source": [
    "# dimensiones\n",
    "poblados.shape"
   ]
  },
  {
   "cell_type": "code",
   "execution_count": 18,
   "id": "ec4a2abf",
   "metadata": {},
   "outputs": [
    {
     "data": {
      "text/plain": [
       "Index(['fcode', 'descripcio', 'nam', 'na2', 'ppt', 'ppt_desc', 'nute', 'txt',\n",
       "       'geometry'],\n",
       "      dtype='object')"
      ]
     },
     "execution_count": 18,
     "metadata": {},
     "output_type": "execute_result"
    }
   ],
   "source": [
    "# nombres de las columnas \n",
    "poblados.columns"
   ]
  },
  {
   "cell_type": "code",
   "execution_count": 19,
   "id": "6f4b8878",
   "metadata": {},
   "outputs": [
    {
     "data": {
      "text/html": [
       "<div>\n",
       "<style scoped>\n",
       "    .dataframe tbody tr th:only-of-type {\n",
       "        vertical-align: middle;\n",
       "    }\n",
       "\n",
       "    .dataframe tbody tr th {\n",
       "        vertical-align: top;\n",
       "    }\n",
       "\n",
       "    .dataframe thead th {\n",
       "        text-align: right;\n",
       "    }\n",
       "</style>\n",
       "<table border=\"1\" class=\"dataframe\">\n",
       "  <thead>\n",
       "    <tr style=\"text-align: right;\">\n",
       "      <th></th>\n",
       "      <th>fcode</th>\n",
       "      <th>descripcio</th>\n",
       "      <th>nam</th>\n",
       "      <th>na2</th>\n",
       "      <th>ppt</th>\n",
       "      <th>ppt_desc</th>\n",
       "      <th>nute</th>\n",
       "      <th>txt</th>\n",
       "      <th>geometry</th>\n",
       "    </tr>\n",
       "  </thead>\n",
       "  <tbody>\n",
       "    <tr>\n",
       "      <th>0</th>\n",
       "      <td>AL105</td>\n",
       "      <td>Concentración continua ocupada de tiendas  o l...</td>\n",
       "      <td>JIPIJAPA</td>\n",
       "      <td>None</td>\n",
       "      <td>-1</td>\n",
       "      <td>Información no disponible</td>\n",
       "      <td>30213006050</td>\n",
       "      <td>Cabecera Cantonal</td>\n",
       "      <td>POINT (-80.58166 -1.35141)</td>\n",
       "    </tr>\n",
       "    <tr>\n",
       "      <th>1</th>\n",
       "      <td>AL105</td>\n",
       "      <td>Concentración continua ocupada de tiendas  o l...</td>\n",
       "      <td>JARAMIJÓ</td>\n",
       "      <td>None</td>\n",
       "      <td>-1</td>\n",
       "      <td>Información no disponible</td>\n",
       "      <td>30213021050</td>\n",
       "      <td>Cabecera Cantonal</td>\n",
       "      <td>POINT (-80.63905 -0.95199)</td>\n",
       "    </tr>\n",
       "    <tr>\n",
       "      <th>2</th>\n",
       "      <td>AL105</td>\n",
       "      <td>Concentración continua ocupada de tiendas  o l...</td>\n",
       "      <td>ROCAFUERTE</td>\n",
       "      <td>None</td>\n",
       "      <td>-1</td>\n",
       "      <td>Información no disponible</td>\n",
       "      <td>30213012050</td>\n",
       "      <td>Cabecera Cantonal</td>\n",
       "      <td>POINT (-80.45031 -0.92770)</td>\n",
       "    </tr>\n",
       "    <tr>\n",
       "      <th>3</th>\n",
       "      <td>AL105</td>\n",
       "      <td>Concentración continua ocupada de tiendas  o l...</td>\n",
       "      <td>MONTECRISTI</td>\n",
       "      <td>None</td>\n",
       "      <td>-1</td>\n",
       "      <td>Información no disponible</td>\n",
       "      <td>30213009050</td>\n",
       "      <td>Cabecera Cantonal</td>\n",
       "      <td>POINT (-80.66011 -1.04883)</td>\n",
       "    </tr>\n",
       "    <tr>\n",
       "      <th>4</th>\n",
       "      <td>AL105</td>\n",
       "      <td>Concentración continua ocupada de tiendas  o l...</td>\n",
       "      <td>MANTA</td>\n",
       "      <td>None</td>\n",
       "      <td>-1</td>\n",
       "      <td>Información no disponible</td>\n",
       "      <td>30213008050</td>\n",
       "      <td>Cabecera Cantonal</td>\n",
       "      <td>POINT (-80.70856 -0.95888)</td>\n",
       "    </tr>\n",
       "  </tbody>\n",
       "</table>\n",
       "</div>"
      ],
      "text/plain": [
       "   fcode                                         descripcio          nam  \\\n",
       "0  AL105  Concentración continua ocupada de tiendas  o l...     JIPIJAPA   \n",
       "1  AL105  Concentración continua ocupada de tiendas  o l...     JARAMIJÓ   \n",
       "2  AL105  Concentración continua ocupada de tiendas  o l...   ROCAFUERTE   \n",
       "3  AL105  Concentración continua ocupada de tiendas  o l...  MONTECRISTI   \n",
       "4  AL105  Concentración continua ocupada de tiendas  o l...        MANTA   \n",
       "\n",
       "    na2  ppt                   ppt_desc         nute                txt  \\\n",
       "0  None   -1  Información no disponible  30213006050  Cabecera Cantonal   \n",
       "1  None   -1  Información no disponible  30213021050  Cabecera Cantonal   \n",
       "2  None   -1  Información no disponible  30213012050  Cabecera Cantonal   \n",
       "3  None   -1  Información no disponible  30213009050  Cabecera Cantonal   \n",
       "4  None   -1  Información no disponible  30213008050  Cabecera Cantonal   \n",
       "\n",
       "                     geometry  \n",
       "0  POINT (-80.58166 -1.35141)  \n",
       "1  POINT (-80.63905 -0.95199)  \n",
       "2  POINT (-80.45031 -0.92770)  \n",
       "3  POINT (-80.66011 -1.04883)  \n",
       "4  POINT (-80.70856 -0.95888)  "
      ]
     },
     "execution_count": 19,
     "metadata": {},
     "output_type": "execute_result"
    }
   ],
   "source": [
    "# contenido\n",
    "poblados.head()"
   ]
  },
  {
   "cell_type": "code",
   "execution_count": 20,
   "id": "6677a217",
   "metadata": {},
   "outputs": [
    {
     "data": {
      "text/html": [
       "<div>\n",
       "<style scoped>\n",
       "    .dataframe tbody tr th:only-of-type {\n",
       "        vertical-align: middle;\n",
       "    }\n",
       "\n",
       "    .dataframe tbody tr th {\n",
       "        vertical-align: top;\n",
       "    }\n",
       "\n",
       "    .dataframe thead th {\n",
       "        text-align: right;\n",
       "    }\n",
       "</style>\n",
       "<table border=\"1\" class=\"dataframe\">\n",
       "  <thead>\n",
       "    <tr style=\"text-align: right;\">\n",
       "      <th></th>\n",
       "      <th>fcode</th>\n",
       "      <th>descripcio</th>\n",
       "      <th>nam</th>\n",
       "      <th>na2</th>\n",
       "      <th>ppt</th>\n",
       "      <th>ppt_desc</th>\n",
       "      <th>nute</th>\n",
       "      <th>txt</th>\n",
       "      <th>geometry</th>\n",
       "    </tr>\n",
       "  </thead>\n",
       "  <tbody>\n",
       "    <tr>\n",
       "      <th>0</th>\n",
       "      <td>AL105</td>\n",
       "      <td>Concentración continua ocupada de tiendas  o l...</td>\n",
       "      <td>JIPIJAPA</td>\n",
       "      <td>None</td>\n",
       "      <td>-1</td>\n",
       "      <td>Información no disponible</td>\n",
       "      <td>30213006050</td>\n",
       "      <td>Cabecera Cantonal</td>\n",
       "      <td>POINT (-80.58166 -1.35141)</td>\n",
       "    </tr>\n",
       "    <tr>\n",
       "      <th>1</th>\n",
       "      <td>AL105</td>\n",
       "      <td>Concentración continua ocupada de tiendas  o l...</td>\n",
       "      <td>JARAMIJÓ</td>\n",
       "      <td>None</td>\n",
       "      <td>-1</td>\n",
       "      <td>Información no disponible</td>\n",
       "      <td>30213021050</td>\n",
       "      <td>Cabecera Cantonal</td>\n",
       "      <td>POINT (-80.63905 -0.95199)</td>\n",
       "    </tr>\n",
       "    <tr>\n",
       "      <th>2</th>\n",
       "      <td>AL105</td>\n",
       "      <td>Concentración continua ocupada de tiendas  o l...</td>\n",
       "      <td>ROCAFUERTE</td>\n",
       "      <td>None</td>\n",
       "      <td>-1</td>\n",
       "      <td>Información no disponible</td>\n",
       "      <td>30213012050</td>\n",
       "      <td>Cabecera Cantonal</td>\n",
       "      <td>POINT (-80.45031 -0.92770)</td>\n",
       "    </tr>\n",
       "    <tr>\n",
       "      <th>3</th>\n",
       "      <td>AL105</td>\n",
       "      <td>Concentración continua ocupada de tiendas  o l...</td>\n",
       "      <td>MONTECRISTI</td>\n",
       "      <td>None</td>\n",
       "      <td>-1</td>\n",
       "      <td>Información no disponible</td>\n",
       "      <td>30213009050</td>\n",
       "      <td>Cabecera Cantonal</td>\n",
       "      <td>POINT (-80.66011 -1.04883)</td>\n",
       "    </tr>\n",
       "    <tr>\n",
       "      <th>4</th>\n",
       "      <td>AL105</td>\n",
       "      <td>Concentración continua ocupada de tiendas  o l...</td>\n",
       "      <td>MANTA</td>\n",
       "      <td>None</td>\n",
       "      <td>-1</td>\n",
       "      <td>Información no disponible</td>\n",
       "      <td>30213008050</td>\n",
       "      <td>Cabecera Cantonal</td>\n",
       "      <td>POINT (-80.70856 -0.95888)</td>\n",
       "    </tr>\n",
       "    <tr>\n",
       "      <th>...</th>\n",
       "      <td>...</td>\n",
       "      <td>...</td>\n",
       "      <td>...</td>\n",
       "      <td>...</td>\n",
       "      <td>...</td>\n",
       "      <td>...</td>\n",
       "      <td>...</td>\n",
       "      <td>...</td>\n",
       "      <td>...</td>\n",
       "    </tr>\n",
       "    <tr>\n",
       "      <th>1406</th>\n",
       "      <td>AL105</td>\n",
       "      <td>Concentración continua ocupada de tiendas  o l...</td>\n",
       "      <td>Puerto Ayora</td>\n",
       "      <td>None</td>\n",
       "      <td>-1</td>\n",
       "      <td>Información no disponible</td>\n",
       "      <td>30420003050</td>\n",
       "      <td>Cabecera Cantonal</td>\n",
       "      <td>POINT (-90.31446 -0.73989)</td>\n",
       "    </tr>\n",
       "    <tr>\n",
       "      <th>1407</th>\n",
       "      <td>AL105</td>\n",
       "      <td>Concentración continua ocupada de tiendas  o l...</td>\n",
       "      <td>PUERTO BAQUERIZO MORENO</td>\n",
       "      <td>None</td>\n",
       "      <td>-1</td>\n",
       "      <td>Información no disponible</td>\n",
       "      <td>30420001050</td>\n",
       "      <td>Capital Provincial</td>\n",
       "      <td>POINT (-89.60894 -0.90491)</td>\n",
       "    </tr>\n",
       "    <tr>\n",
       "      <th>1408</th>\n",
       "      <td>AL105</td>\n",
       "      <td>Concentración continua ocupada de tiendas  o l...</td>\n",
       "      <td>Puerto Velasco Ibarra</td>\n",
       "      <td>None</td>\n",
       "      <td>-1</td>\n",
       "      <td>Información no disponible</td>\n",
       "      <td>30420001052</td>\n",
       "      <td>Cabecera Parroquial</td>\n",
       "      <td>POINT (-90.48661 -1.27510)</td>\n",
       "    </tr>\n",
       "    <tr>\n",
       "      <th>1409</th>\n",
       "      <td>AL105</td>\n",
       "      <td>Concentración continua ocupada de tiendas  o l...</td>\n",
       "      <td>Puerto Villamil</td>\n",
       "      <td>None</td>\n",
       "      <td>-1</td>\n",
       "      <td>Información no disponible</td>\n",
       "      <td>30420002050</td>\n",
       "      <td>Cabecera Cantonal</td>\n",
       "      <td>POINT (-90.96445 -0.95541)</td>\n",
       "    </tr>\n",
       "    <tr>\n",
       "      <th>1410</th>\n",
       "      <td>AL105</td>\n",
       "      <td>Concentración continua ocupada de tiendas  o l...</td>\n",
       "      <td>Bellavista</td>\n",
       "      <td>None</td>\n",
       "      <td>-1</td>\n",
       "      <td>Información no disponible</td>\n",
       "      <td>30420003051</td>\n",
       "      <td>Cabecera Parroquial</td>\n",
       "      <td>POINT (-90.32594 -0.69609)</td>\n",
       "    </tr>\n",
       "  </tbody>\n",
       "</table>\n",
       "<p>1280 rows × 9 columns</p>\n",
       "</div>"
      ],
      "text/plain": [
       "      fcode                                         descripcio  \\\n",
       "0     AL105  Concentración continua ocupada de tiendas  o l...   \n",
       "1     AL105  Concentración continua ocupada de tiendas  o l...   \n",
       "2     AL105  Concentración continua ocupada de tiendas  o l...   \n",
       "3     AL105  Concentración continua ocupada de tiendas  o l...   \n",
       "4     AL105  Concentración continua ocupada de tiendas  o l...   \n",
       "...     ...                                                ...   \n",
       "1406  AL105  Concentración continua ocupada de tiendas  o l...   \n",
       "1407  AL105  Concentración continua ocupada de tiendas  o l...   \n",
       "1408  AL105  Concentración continua ocupada de tiendas  o l...   \n",
       "1409  AL105  Concentración continua ocupada de tiendas  o l...   \n",
       "1410  AL105  Concentración continua ocupada de tiendas  o l...   \n",
       "\n",
       "                          nam   na2  ppt                   ppt_desc  \\\n",
       "0                    JIPIJAPA  None   -1  Información no disponible   \n",
       "1                    JARAMIJÓ  None   -1  Información no disponible   \n",
       "2                  ROCAFUERTE  None   -1  Información no disponible   \n",
       "3                 MONTECRISTI  None   -1  Información no disponible   \n",
       "4                       MANTA  None   -1  Información no disponible   \n",
       "...                       ...   ...  ...                        ...   \n",
       "1406             Puerto Ayora  None   -1  Información no disponible   \n",
       "1407  PUERTO BAQUERIZO MORENO  None   -1  Información no disponible   \n",
       "1408    Puerto Velasco Ibarra  None   -1  Información no disponible   \n",
       "1409          Puerto Villamil  None   -1  Información no disponible   \n",
       "1410               Bellavista  None   -1  Información no disponible   \n",
       "\n",
       "             nute                  txt                    geometry  \n",
       "0     30213006050    Cabecera Cantonal  POINT (-80.58166 -1.35141)  \n",
       "1     30213021050    Cabecera Cantonal  POINT (-80.63905 -0.95199)  \n",
       "2     30213012050    Cabecera Cantonal  POINT (-80.45031 -0.92770)  \n",
       "3     30213009050    Cabecera Cantonal  POINT (-80.66011 -1.04883)  \n",
       "4     30213008050    Cabecera Cantonal  POINT (-80.70856 -0.95888)  \n",
       "...           ...                  ...                         ...  \n",
       "1406  30420003050    Cabecera Cantonal  POINT (-90.31446 -0.73989)  \n",
       "1407  30420001050   Capital Provincial  POINT (-89.60894 -0.90491)  \n",
       "1408  30420001052  Cabecera Parroquial  POINT (-90.48661 -1.27510)  \n",
       "1409  30420002050    Cabecera Cantonal  POINT (-90.96445 -0.95541)  \n",
       "1410  30420003051  Cabecera Parroquial  POINT (-90.32594 -0.69609)  \n",
       "\n",
       "[1280 rows x 9 columns]"
      ]
     },
     "execution_count": 20,
     "metadata": {},
     "output_type": "execute_result"
    }
   ],
   "source": [
    "poblados[poblados.isna().any(axis=1)]"
   ]
  },
  {
   "cell_type": "code",
   "execution_count": 21,
   "id": "f3c5c46a",
   "metadata": {},
   "outputs": [
    {
     "name": "stdout",
     "output_type": "stream",
     "text": [
      "<class 'geopandas.geodataframe.GeoDataFrame'>\n",
      "RangeIndex: 1411 entries, 0 to 1410\n",
      "Data columns (total 9 columns):\n",
      " #   Column      Non-Null Count  Dtype   \n",
      "---  ------      --------------  -----   \n",
      " 0   fcode       1410 non-null   object  \n",
      " 1   descripcio  1411 non-null   object  \n",
      " 2   nam         1411 non-null   object  \n",
      " 3   na2         131 non-null    object  \n",
      " 4   ppt         1411 non-null   int64   \n",
      " 5   ppt_desc    1411 non-null   object  \n",
      " 6   nute        1411 non-null   object  \n",
      " 7   txt         1411 non-null   object  \n",
      " 8   geometry    1411 non-null   geometry\n",
      "dtypes: geometry(1), int64(1), object(7)\n",
      "memory usage: 99.3+ KB\n"
     ]
    }
   ],
   "source": [
    "# tipos\n",
    "poblados.info()"
   ]
  },
  {
   "cell_type": "code",
   "execution_count": 22,
   "id": "7450ffcf",
   "metadata": {},
   "outputs": [
    {
     "data": {
      "text/plain": [
       "<AxesSubplot:>"
      ]
     },
     "execution_count": 22,
     "metadata": {},
     "output_type": "execute_result"
    },
    {
     "data": {
      "image/png": "[encoded data removed]",
      "text/plain": [
       "<Figure size 640x480 with 1 Axes>"
      ]
     },
     "metadata": {},
     "output_type": "display_data"
    }
   ],
   "source": [
    "# ploteo\n",
    "poblados.plot()"
   ]
  },
  {
   "cell_type": "code",
   "execution_count": 23,
   "id": "8e4e4ee7",
   "metadata": {},
   "outputs": [],
   "source": [
    "vias=gpd.read_file(os.path.join(\"maps\",\"vias\",\"vias.shp\"))"
   ]
  },
  {
   "cell_type": "code",
   "execution_count": 24,
   "id": "8a9bf387",
   "metadata": {},
   "outputs": [
    {
     "data": {
      "text/plain": [
       "<AxesSubplot:>"
      ]
     },
     "execution_count": 24,
     "metadata": {},
     "output_type": "execute_result"
    },
    {
     "data": {
      "image/png": "[encoded data removed]",
      "text/plain": [
       "<Figure size 640x480 with 1 Axes>"
      ]
     },
     "metadata": {},
     "output_type": "display_data"
    }
   ],
   "source": [
    "vias.plot()"
   ]
  },
  {
   "cell_type": "code",
   "execution_count": null,
   "id": "1d1c6399",
   "metadata": {},
   "outputs": [],
   "source": []
  },
  {
   "cell_type": "code",
   "execution_count": null,
   "id": "4274fc0b",
   "metadata": {},
   "outputs": [],
   "source": []
  },
  {
   "cell_type": "code",
   "execution_count": null,
   "id": "3e8663f2",
   "metadata": {},
   "outputs": [],
   "source": []
  }
 ],
 "metadata": {
  "kernelspec": {
   "display_name": "Python 3 (ipykernel)",
   "language": "python",
   "name": "python3"
  },
  "language_info": {
   "codemirror_mode": {
    "name": "ipython",
    "version": 3
   },
   "file_extension": ".py",
   "mimetype": "text/x-python",
   "name": "python",
   "nbconvert_exporter": "python",
   "pygments_lexer": "ipython3",
   "version": "3.9.13"
  }
 },
 "nbformat": 4,
 "nbformat_minor": 5
}
